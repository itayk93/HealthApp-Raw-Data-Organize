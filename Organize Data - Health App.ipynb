{
 "cells": [
  {
   "cell_type": "code",
   "execution_count": 31,
   "metadata": {},
   "outputs": [],
   "source": [
    "import pandas as pd\n",
    "import os\n",
    "\n",
    "df_xml = pd.read_xml('Input/export.xml')\n",
    "df_xml[['type', 'sourceName', 'sourceVersion',\n",
    "        'unit', 'creationDate', 'startDate',\n",
    "        'endDate', 'value', 'device']].to_csv('Input/Data 24022022 - Health.csv', index=False)\n"
   ]
  },
  {
   "cell_type": "code",
   "execution_count": 32,
   "metadata": {},
   "outputs": [
    {
     "name": "stderr",
     "output_type": "stream",
     "text": [
      "/Users/itaykarkason/opt/anaconda3/lib/python3.8/site-packages/IPython/core/interactiveshell.py:3343: DtypeWarning: Columns (7) have mixed types.Specify dtype option on import or set low_memory=False.\n",
      "  exec(code_obj, self.user_global_ns, self.user_ns)\n"
     ]
    }
   ],
   "source": [
    "# Read the Data\n",
    "data = pd.read_csv('Input/Data 24022022 - Health.csv', parse_dates=['creationDate'], dayfirst=False)\n",
    "\n",
    "# Convert the _creationDate to a date format\n",
    "data['creationDate'] = data['creationDate'].dt.date\n",
    "data = data.rename(columns={'creationDate' : 'Date'})\n"
   ]
  },
  {
   "cell_type": "code",
   "execution_count": 33,
   "metadata": {},
   "outputs": [
    {
     "name": "stderr",
     "output_type": "stream",
     "text": [
      "/Users/itaykarkason/opt/anaconda3/lib/python3.8/site-packages/pandas/core/frame.py:3607: SettingWithCopyWarning: \n",
      "A value is trying to be set on a copy of a slice from a DataFrame.\n",
      "Try using .loc[row_indexer,col_indexer] = value instead\n",
      "\n",
      "See the caveats in the documentation: https://pandas.pydata.org/pandas-docs/stable/user_guide/indexing.html#returning-a-view-versus-a-copy\n",
      "  self._set_item(key, value)\n"
     ]
    }
   ],
   "source": [
    "# creating the new table with the columns I want\n",
    "data_to_output = data[ ['Date', 'sourceName', 'unit', 'value', 'type'] ]\n",
    "# Convert Date to datetime Values\n",
    "data_to_output['Date'] = pd.to_datetime(data_to_output['Date'])\n",
    "# Filter out those 3 values from 2019 that wasn't okay\n",
    "data_to_output = data_to_output.loc[(data_to_output['Date'].dt.year != 2019) &\n",
    "                                    (data_to_output['Date'].dt.strftime('%Y-%m') != '2020-01') &\n",
    "                                    (data_to_output['Date'].dt.strftime('%Y-%m') != '2018-12') &\n",
    "                                    (data_to_output['Date'].dt.strftime('%Y-%m') != '2017-08') &\n",
    "                                    (data_to_output['Date'].dt.strftime('%Y-%m') != '2018-10') ]\n"
   ]
  },
  {
   "cell_type": "code",
   "execution_count": 34,
   "metadata": {},
   "outputs": [],
   "source": [
    "# create multiple files out of the different files of in 'type' column\n",
    "data_group = data_to_output.groupby('type').sum().reset_index()['type']\n",
    "\n",
    "for i in range (0,len(data_group)):\n",
    "    name_filter = data_group.iloc[i]\n",
    "    mask_data = data_to_output['type'] == name_filter\n",
    "    data_to_output[mask_data][ ['Date', 'sourceName', 'unit', 'value', 'type'] ].to_csv(name_filter+\".csv\")"
   ]
  },
  {
   "cell_type": "code",
   "execution_count": 35,
   "metadata": {},
   "outputs": [],
   "source": [
    "# Taking the file Walking Step Length - group by and sort by date\n",
    "data_walking_step_length = pd.read_csv('HKQuantityTypeIdentifierWalkingStepLength.csv', parse_dates=['Date'], dayfirst=False)\n",
    "# goup by Date\n",
    "data_walking_step_length_group = data_walking_step_length.groupby('Date').mean('value').to_csv(\"HKQuantityTypeIdentifierWalkingStepLength - Output Group.csv\")\n",
    "data_walking_step_length_group = pd.read_csv('HKQuantityTypeIdentifierWalkingStepLength - Output Group.csv', parse_dates=['Date'], dayfirst=False)\n",
    "# Adding Columns I need\n",
    "data_walking_step_length_group['sourceName'] = \"Itay Karkason's Iphone\"\n",
    "data_walking_step_length_group['unit'] = \"Average Step Length per day in cm\"\n",
    "data_walking_step_length_group['type'] = \"HKQuantityTypeIdentifierWalkingStepLength\"\n",
    "# Exporting\n",
    "data_walking_step_length_group[ ['Date', 'sourceName', 'unit', 'value', 'type'] ].to_excel(\"Walking Step Length.xlsx\", index=False, sheet_name='Walking Step Length')\n",
    "# Removing edit files\n",
    "os.remove(\"HKQuantityTypeIdentifierWalkingStepLength.csv\")\n",
    "os.remove(\"HKQuantityTypeIdentifierWalkingStepLength - Output Group.csv\")\n"
   ]
  },
  {
   "cell_type": "code",
   "execution_count": 36,
   "metadata": {},
   "outputs": [],
   "source": [
    "# Taking the file Walking Speed - group by and sort by date\n",
    "data_walking_speed = pd.read_csv('HKQuantityTypeIdentifierWalkingSpeed.csv', parse_dates=['Date'], dayfirst=False)\n",
    "# goup by Date\n",
    "data_walking_speed_group = data_walking_speed.groupby('Date').mean('value').to_csv(\"HKQuantityTypeIdentifierWalkingSpeed - Output Group.csv\")\n",
    "data_walking_speed_group = pd.read_csv('HKQuantityTypeIdentifierWalkingSpeed - Output Group.csv', parse_dates=['Date'], dayfirst=False)\n",
    "# Adding Columns I need\n",
    "data_walking_speed_group['sourceName'] = \"Itay Karkason's Iphone\"\n",
    "data_walking_speed_group['unit'] = \"Average km/hr per day\"\n",
    "data_walking_speed_group['type'] = \"HKQuantityTypeIdentifierWalkingSpeed\"\n",
    "# Exporting\n",
    "data_walking_speed_group[ ['Date', 'sourceName', 'unit', 'value', 'type'] ].to_excel(\"Walking Speed.xlsx\", index=False, sheet_name='Walking Speed')\n",
    "# Removing edit files\n",
    "os.remove(\"HKQuantityTypeIdentifierWalkingSpeed.csv\")\n",
    "os.remove(\"HKQuantityTypeIdentifierWalkingSpeed - Output Group.csv\")\n"
   ]
  },
  {
   "cell_type": "code",
   "execution_count": 37,
   "metadata": {},
   "outputs": [],
   "source": [
    "# Taking the file Flights Climbed - group by and sort by date\n",
    "data_flights_climbed = pd.read_csv('HKQuantityTypeIdentifierFlightsClimbed.csv', parse_dates=['Date'], dayfirst=False)\n",
    "# goup by Date\n",
    "data_flights_climbed_group = data_flights_climbed.groupby('Date').sum('value').to_csv(\"HKQuantityTypeIdentifierFlightsClimbed - Output Group.csv\")\n",
    "data_flights_climbed_group = pd.read_csv('HKQuantityTypeIdentifierFlightsClimbed - Output Group.csv', parse_dates=['Date'], dayfirst=False)\n",
    "# convert the value column to integer\n",
    "data_flights_climbed_group[\"value\"] = pd.to_numeric(data_flights_climbed_group[\"value\"], downcast='integer')\n",
    "# Adding Columns I need\n",
    "data_flights_climbed_group['sourceName'] = \"Itay Karkason's Iphone\"\n",
    "data_flights_climbed_group['unit'] = \"Total Count per day\"\n",
    "data_flights_climbed_group['type'] = \"HKQuantityTypeIdentifierFlightsClimbed\"\n",
    "# Exporting\n",
    "data_flights_climbed_group[ ['Date', 'sourceName', 'unit', 'value', 'type'] ].to_excel(\"Flights Climbed.xlsx\", index=False, sheet_name='Flights Climbed')\n",
    "# Removing edit files\n",
    "os.remove(\"HKQuantityTypeIdentifierFlightsClimbed.csv\")\n",
    "os.remove(\"HKQuantityTypeIdentifierFlightsClimbed - Output Group.csv\")\n"
   ]
  },
  {
   "cell_type": "code",
   "execution_count": 38,
   "metadata": {},
   "outputs": [],
   "source": [
    "# Taking the file Step Count - group by and sort by date\n",
    "data_step_count = pd.read_csv('HKQuantityTypeIdentifierStepCount.csv', parse_dates=['Date'], dayfirst=False)\n",
    "# goup by Date\n",
    "data_step_count_group = data_step_count.groupby('Date').sum('value').to_csv(\"HKQuantityTypeIdentifierStepCount - Output Group.csv\")\n",
    "data_step_count_group = pd.read_csv('HKQuantityTypeIdentifierStepCount - Output Group.csv', parse_dates=['Date'], dayfirst=False)\n",
    "# convert the value column to integer\n",
    "data_step_count_group[\"value\"] = pd.to_numeric(data_step_count_group[\"value\"], downcast='integer')\n",
    "# Adding Columns I need\n",
    "data_step_count_group['sourceName'] = \"Itay Karkason's Iphone\"\n",
    "data_step_count_group['unit'] = \"Total Count per day\"\n",
    "data_step_count_group['type'] = \"HKQuantityTypeIdentifierStepCount\"\n",
    "# Exporting\n",
    "data_step_count_group[ ['Date', 'sourceName', 'unit', 'value', 'type'] ].to_excel(\"Step Count.xlsx\", index=False, sheet_name='Step Count')\n",
    "# Removing edit files\n",
    "os.remove(\"HKQuantityTypeIdentifierStepCount.csv\")\n",
    "os.remove(\"HKQuantityTypeIdentifierStepCount - Output Group.csv\")\n"
   ]
  },
  {
   "cell_type": "code",
   "execution_count": 39,
   "metadata": {},
   "outputs": [],
   "source": [
    "# Taking the file Distance Walking Running - group by and sort by date\n",
    "data_step_count = pd.read_csv('HKQuantityTypeIdentifierDistanceWalkingRunning.csv', parse_dates=['Date'], dayfirst=False)\n",
    "# goup by Date\n",
    "data_step_count_group = data_step_count.groupby('Date').sum('value').to_csv(\"HKQuantityTypeIdentifierDistanceWalkingRunning - Output Group.csv\")\n",
    "data_step_count_group = pd.read_csv('HKQuantityTypeIdentifierDistanceWalkingRunning - Output Group.csv', parse_dates=['Date'], dayfirst=False)\n",
    "# convert the value column to integer\n",
    "data_step_count_group[\"value\"] = pd.to_numeric(data_step_count_group[\"value\"])\n",
    "# Adding Columns I need\n",
    "data_step_count_group['sourceName'] = \"Itay Karkason's Iphone\"\n",
    "data_step_count_group['unit'] = \"Total Km per day\"\n",
    "data_step_count_group['type'] = \"HKQuantityTypeIdentifierDistanceWalkingRunning\"\n",
    "# Exporting\n",
    "data_step_count_group[ ['Date', 'sourceName', 'unit', 'value', 'type'] ].to_excel(\"Distance Walking Running.xlsx\", index=False, sheet_name='Distance Walking Running')\n",
    "# Removing edit files\n",
    "os.remove(\"HKQuantityTypeIdentifierDistanceWalkingRunning.csv\")\n",
    "os.remove(\"HKQuantityTypeIdentifierDistanceWalkingRunning - Output Group.csv\")\n"
   ]
  },
  {
   "cell_type": "code",
   "execution_count": 40,
   "metadata": {},
   "outputs": [],
   "source": [
    "# Taking the file Active Energy Burned - group by and sort by date\n",
    "data_Active_energy_burned = pd.read_csv('HKQuantityTypeIdentifierActiveEnergyBurned.csv', parse_dates=['Date'], dayfirst=False)\n",
    "# goup by Date\n",
    "data_Active_energy_burned_group = data_Active_energy_burned.groupby('Date').sum('value').to_csv(\"HKQuantityTypeIdentifierActiveEnergyBurned - Output Group.csv\")\n",
    "data_Active_energy_burned_group = pd.read_csv('HKQuantityTypeIdentifierActiveEnergyBurned - Output Group.csv', parse_dates=['Date'], dayfirst=False)\n",
    "# convert the value column to integer\n",
    "data_Active_energy_burned_group[\"value\"] = pd.to_numeric(data_Active_energy_burned_group[\"value\"], downcast='integer')\n",
    "# Adding Columns I need\n",
    "data_Active_energy_burned_group['sourceName'] = \"Various Apps\"\n",
    "data_Active_energy_burned_group['unit'] = \"Total Calories per day\"\n",
    "data_Active_energy_burned_group['type'] = \"HKQuantityTypeIdentifierActiveEnergyBurned\"\n",
    "# Exporting\n",
    "data_Active_energy_burned_group[ ['Date', 'sourceName', 'unit', 'value', 'type'] ].to_excel(\"Active Energy Burned.xlsx\", index=False, sheet_name='Active Energy Burned')\n",
    "# Removing edit files\n"
   ]
  },
  {
   "cell_type": "code",
   "execution_count": 41,
   "metadata": {},
   "outputs": [],
   "source": [
    "# Taking the file Active Energy Burned - group by and sort by date and kind of app \n",
    "data_Active_energy_burned = pd.read_csv('HKQuantityTypeIdentifierActiveEnergyBurned.csv', parse_dates=['Date'], dayfirst=False)\n",
    "# goup by Date\n",
    "data_Active_energy_burned_group = data_Active_energy_burned.groupby([\"Date\", \"sourceName\"]).sum('value').to_csv(\"HKQuantityTypeIdentifierActiveEnergyBurned - Output Group.csv\")\n",
    "data_Active_energy_burned_group = pd.read_csv('HKQuantityTypeIdentifierActiveEnergyBurned - Output Group.csv', parse_dates=['Date'], dayfirst=False)\n",
    "# convert the value column to integer\n",
    "data_Active_energy_burned_group[\"value\"] = pd.to_numeric(data_Active_energy_burned_group[\"value\"], downcast='integer')\n",
    "# Adding Columns I need\n",
    "data_Active_energy_burned_group['unit'] = \"Total Calories per day\"\n",
    "data_Active_energy_burned_group['type'] = \"HKQuantityTypeIdentifierActiveEnergyBurned\"\n",
    "# Exporting\n",
    "data_Active_energy_burned_group = data_Active_energy_burned_group[ ['Date', 'sourceName', 'unit', 'value', 'type'] ]\n",
    "\n",
    "# Exporting by kind of apps (under sourceName column), without running (because i have the data from runtastic)\n",
    "data_group_apps = data_Active_energy_burned_group.groupby('sourceName').sum().reset_index()['sourceName']\n",
    "\n",
    "for i in range (0,len(data_group_apps)):\n",
    "    name_filter_app = data_group_apps.iloc[i]\n",
    "    mask_data_app = data_Active_energy_burned_group['sourceName'] == name_filter_app\n",
    "    data_Active_energy_burned_group[mask_data_app][ ['Date', 'sourceName', 'unit', 'value', 'type'] ].to_excel(\"Active Energy Burned - \" +name_filter_app+\".xlsx\" ,index=False ,sheet_name=name_filter_app)\n",
    "\n",
    "os.remove(\"Active Energy Burned - Running.xlsx\")\n",
    "os.remove(\"HKQuantityTypeIdentifierActiveEnergyBurned.csv\")\n",
    "os.remove(\"HKQuantityTypeIdentifierActiveEnergyBurned - Output Group.csv\")\n",
    "\n",
    "#NOTE\n",
    "# I made few files for each working out app - but in tableau i used only the Abs App"
   ]
  },
  {
   "cell_type": "code",
   "execution_count": 42,
   "metadata": {},
   "outputs": [],
   "source": [
    "# Removing Files i don't need\n",
    "os.remove(\"HKQuantityTypeIdentifierWalkingDoubleSupportPercentage.csv\")\n",
    "os.remove(\"HKQuantityTypeIdentifierWalkingAsymmetryPercentage.csv\")\n",
    "os.remove(\"HKQuantityTypeIdentifierHeight.csv\")\n",
    "os.remove(\"HKQuantityTypeIdentifierHeadphoneAudioExposure.csv\")\n",
    "os.remove(\"HKQuantityTypeIdentifierBodyMass.csv\")\n",
    "os.remove(\"HKQuantityTypeIdentifierBodyFatPercentage.csv\")\n",
    "os.remove(\"HKCategoryTypeIdentifierMindfulSession.csv\")\n",
    "os.remove(\"HKQuantityTypeIdentifierAppleWalkingSteadiness.csv\")"
   ]
  }
 ],
 "metadata": {
  "kernelspec": {
   "display_name": "Python 3 (ipykernel)",
   "language": "python",
   "name": "python3"
  },
  "language_info": {
   "codemirror_mode": {
    "name": "ipython",
    "version": 3
   },
   "file_extension": ".py",
   "mimetype": "text/x-python",
   "name": "python",
   "nbconvert_exporter": "python",
   "pygments_lexer": "ipython3",
   "version": "3.9.7"
  }
 },
 "nbformat": 4,
 "nbformat_minor": 4
}
